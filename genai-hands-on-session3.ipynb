{
  "nbformat": 4,
  "nbformat_minor": 0,
  "metadata": {
    "colab": {
      "provenance": []
    },
    "kernelspec": {
      "name": "python3",
      "display_name": "Python 3"
    },
    "language_info": {
      "name": "python"
    }
  },
  "cells": [
    {
      "cell_type": "markdown",
      "source": [
        "# Gen-AI Workshop: Automatic Detection of Misplaced Business Logic in Java\n",
        "\n",
        "This notebook covers RAG, Agents, and Workflows for analyzing Java code against Clean Architecture rules.\n",
        "\n",
        "**Focus:** Detect/explain violations (e.g., business logic in controllers/repos) in legacy projects.\n",
        "\n",
        "**Tech Stack:** Python, OpenAI, sentence-transformers, FAISS, LangChain\n",
        "\n",
        "**Instructions:** Run cells sequentially; ensure `api-key.txt` exists in the same directory."
      ],
      "metadata": {
        "id": "SkcQ18Cjrx44"
      }
    },
    {
      "cell_type": "markdown",
      "source": [
        "## Setup: Install Dependencies\n",
        "\n",
        "Before running the notebook, install required packages:\n",
        "```bash"
      ],
      "metadata": {
        "id": "SYQbhnjUr0QY"
      }
    },
    {
      "cell_type": "code",
      "source": [
        "import re\n",
        "import numpy as np\n",
        "from sentence_transformers import SentenceTransformer\n",
        "import faiss\n",
        "from openai import OpenAI\n",
        "from langchain_openai import ChatOpenAI\n",
        "from langchain.agents import Tool, initialize_agent, AgentType\n",
        "from langchain.prompts import PromptTemplate\n",
        "from langchain.chains import LLMChain, SequentialChain, TransformChain"
      ],
      "metadata": {
        "id": "yJ3DhWIhq1Lp"
      },
      "execution_count": null,
      "outputs": []
    },
    {
      "cell_type": "code",
      "source": [
        "# Read OpenAI API key from file (secure; not hardcoded)\n",
        "try:\n",
        "    with open('api-key.txt', 'r') as f:\n",
        "        OPENAI_API_KEY = f.read().strip()\n",
        "    print(\"API key loaded from file.\")\n",
        "except FileNotFoundError:\n",
        "    raise FileNotFoundError(\"Upload 'api-key.txt' (containing just your OpenAI key) to the same directory and re-run.\")"
      ],
      "metadata": {
        "id": "gPYClFlZq3p_"
      },
      "execution_count": null,
      "outputs": []
    },
    {
      "cell_type": "code",
      "source": [
        "# Mini Knowledge Base (architecture rules; same across sections)\n",
        "KB_MARKDOWN = \"\"\"\n",
        "# Clean Architecture Rules for Java Applications\n",
        "\n",
        "## Layering Principles\n",
        "- **Domain Layer**: Contains business entities, rules, and logic. This is the core of the application, independent of frameworks or external systems.\n",
        "- **Service Layer**: Implements business use cases by orchestrating domain objects. Business logic (e.g., calculations, validations, decisions) must reside here.\n",
        "- **Controller/API Layer**: Handles incoming requests (e.g., HTTP), parses input, calls services, and returns responses. No business logic allowed—only orchestration and validation.\n",
        "- **Repository Layer**: Manages data persistence (e.g., database queries). Should only handle CRUD operations, no business decisions or transformations.\n",
        "- **UI Layer**: Presentation only (e.g., views, frontend). No business logic; delegate to services.\n",
        "\n",
        "## Anti-Patterns for Misplaced Business Logic\n",
        "- **Logic in Controllers**: If-statements, calculations, or decisions based on business rules in controllers (e.g., checking user age and applying discounts). Move to services.\n",
        "- **Logic in Repositories**: Business transformations or validations in repo methods (e.g., filtering results based on business conditions). Keep repos data-only.\n",
        "- **God Classes**: Single classes mixing layers (e.g., a controller querying DB and applying logic). Enforce separation.\n",
        "- **Leaky Abstractions**: Adapters (e.g., controllers) leaking domain logic, leading to tight coupling and hard testing.\n",
        "\n",
        "## Examples of Violations\n",
        "- Violation: Controller contains if (user.balance < 0) { throw OverdraftException; } — This is business validation; move to AccountService.\n",
        "- Correct: Controller calls service.checkBalance(userId), which handles the logic.\n",
        "\n",
        "These rules improve maintainability, testability, and scalability in legacy Java projects.\n",
        "\"\"\"\n",
        "\n",
        "# Clean KB too, just in case\n",
        "KB_MARKDOWN = KB_MARKDOWN.replace('\\u200b', '').replace('\\ufeff', '')"
      ],
      "metadata": {
        "id": "BX94pa_1q48f"
      },
      "execution_count": null,
      "outputs": []
    },
    {
      "cell_type": "code",
      "source": [
        "# RAG Components (shared across sections)\n",
        "model = SentenceTransformer('all-MiniLM-L6-v2')\n",
        "chunks = re.split(r'\\n\\s*\\n', KB_MARKDOWN.strip())  # Split by paragraphs\n",
        "embeddings = model.encode(chunks)\n",
        "dimension = embeddings.shape[1]\n",
        "index = faiss.IndexFlatL2(dimension)\n",
        "index.add(np.array(embeddings))"
      ],
      "metadata": {
        "id": "EW83o5Kwq6m9"
      },
      "execution_count": null,
      "outputs": []
    },
    {
      "cell_type": "code",
      "source": [
        "def retrieve_relevant_rules(query):\n",
        "    \"\"\"Core retrieval function: Embed query, fetch top-3 chunks.\"\"\"\n",
        "    query_embedding = model.encode([query])\n",
        "    _, indices = index.search(np.array(query_embedding), 3)\n",
        "    relevant = \"\\n\\n\".join([chunks[i] for i in indices[0]])\n",
        "    return relevant.replace('\\u200b', '').replace('\\ufeff', '')  # Clean output"
      ],
      "metadata": {
        "id": "jGp43ub9q7Ty"
      },
      "execution_count": null,
      "outputs": []
    },
    {
      "cell_type": "code",
      "source": [
        "# Sample Java Code Snippets (use these for hands-on; one clean, two leaky)\n",
        "SAMPLES = {\n",
        "    \"clean\": \"\"\"\n",
        "package com.example.controller;\n",
        "\n",
        "import com.example.service.UserService;\n",
        "import org.springframework.web.bind.annotation.GetMapping;\n",
        "import org.springframework.web.bind.annotation.PathVariable;\n",
        "import org.springframework.web.bind.annotation.RestController;\n",
        "\n",
        "@RestController\n",
        "public class UserController {\n",
        "\n",
        "    private final UserService userService;\n",
        "\n",
        "    public UserController(UserService userService) {\n",
        "        this.userService = userService;\n",
        "    }\n",
        "\n",
        "    @GetMapping(\"/users/{id}\")\n",
        "    public User getUser(@PathVariable Long id) {\n",
        "        return userService.getValidatedUser(id);\n",
        "    }\n",
        "}\n",
        "\"\"\",\n",
        "    \"leaky_controller\": \"\"\"\n",
        "package com.example.controller;\n",
        "\n",
        "import com.example.repository.UserRepository;\n",
        "import org.springframework.web.bind.annotation.GetMapping;\n",
        "import org.springframework.web.bind.annotation.PathVariable;\n",
        "import org.springframework.web.bind.annotation.RestController;\n",
        "\n",
        "@RestController\n",
        "public class UserController {\n",
        "\n",
        "    private final UserRepository userRepository;\n",
        "\n",
        "    public UserController(UserRepository userRepository) {\n",
        "        this.userRepository = userRepository;\n",
        "    }\n",
        "\n",
        "    @GetMapping(\"/users/{id}\")\n",
        "    public User getUser(@PathVariable Long id) {\n",
        "        User user = userRepository.findById(id);\n",
        "        if (user.getAge() < 18) {\n",
        "            throw new RuntimeException(\"User is minor; access denied.\");  // Misplaced business logic\n",
        "        }\n",
        "        user.setDiscount(user.getAge() > 65 ? 0.2 : 0.0);  // Misplaced calculation\n",
        "        return user;\n",
        "    }\n",
        "}\n",
        "\"\"\",\n",
        "    \"leaky_repository\": \"\"\"\n",
        "package com.example.repository;\n",
        "\n",
        "import com.example.entity.User;\n",
        "import org.springframework.data.jpa.repository.JpaRepository;\n",
        "\n",
        "public interface UserRepository extends JpaRepository<User, Long> {\n",
        "\n",
        "    default User findValidatedById(Long id) {\n",
        "        User user = findById(id).orElseThrow();\n",
        "        if (user.getBalance() < 0) {\n",
        "            user.setStatus(\"overdue\");  // Misplaced business logic\n",
        "        }\n",
        "        return user;\n",
        "    }\n",
        "}\n",
        "\"\"\"\n",
        "}\n",
        "\n",
        "# Clean samples too\n",
        "for key in SAMPLES:\n",
        "    SAMPLES[key] = SAMPLES[key].replace('\\u200b', '').replace('\\ufeff', '')\n",
        "\n",
        "print(\"Setup complete. Proceed to sections below.\")"
      ],
      "metadata": {
        "id": "kBXO4x4mq84l"
      },
      "execution_count": null,
      "outputs": []
    },
    {
      "cell_type": "markdown",
      "source": [
        "---\n",
        "\n",
        "# Section 1: RAG (Retrieval-Augmented Generation)\n",
        "\n",
        "**Goal:** Build a simple RAG pipeline to retrieve relevant rules based on Java code.\n",
        "\n",
        "**Why?** Augments LLM with domain knowledge (e.g., anti-patterns) to detect violations accurately.\n",
        "\n",
        "**Hands-on:** Run, then swap `SAMPLES[\"clean\"]` for `\"leaky_controller\"` and re-run to see differences."
      ],
      "metadata": {
        "id": "Vnq-rG9Or3Jr"
      }
    },
    {
      "cell_type": "code",
      "source": [
        "# Step 1: Retrieve rules for a sample\n",
        "java_code = SAMPLES[\"leaky_controller\"]  # Change this to experiment\n",
        "relevant_rules = retrieve_relevant_rules(java_code)\n",
        "print(\"Retrieved Rules:\\n\", relevant_rules[:500], \"...\")  # Truncated for brevity"
      ],
      "metadata": {
        "id": "GdRchpCGrBcd"
      },
      "execution_count": null,
      "outputs": []
    },
    {
      "cell_type": "code",
      "source": [
        "# Step 2: Augment with LLM for analysis\n",
        "client = OpenAI(api_key=OPENAI_API_KEY)\n",
        "# Do not change the model! gpt-4.1-nano is a real model!\n",
        "response = client.chat.completions.create(\n",
        "    model=\"gpt-4.1-nano\",\n",
        "    messages=[\n",
        "        {\"role\": \"system\", \"content\": \"You are a Java architecture expert using RAG-retrieved rules.\"},\n",
        "        {\"role\": \"user\", \"content\": f\"Code:\\n{java_code}\\n\\nRules:\\n{relevant_rules}\\n\\nList violations with locations and explanations.\"}\n",
        "    ]\n",
        ")\n",
        "print(\"\\nRAG-Enhanced Analysis:\\n\", response.choices[0].message.content)"
      ],
      "metadata": {
        "id": "Gv8kuTwdrCr0"
      },
      "execution_count": null,
      "outputs": []
    },
    {
      "cell_type": "markdown",
      "source": [
        "**Exercise:** Modify `java_code` to `SAMPLES[\"clean\"]`—what changes? How might you improve chunking for better retrieval?"
      ],
      "metadata": {
        "id": "F1bLGN8Ar5OA"
      }
    },
    {
      "cell_type": "markdown",
      "source": [
        "---\n",
        "\n",
        "# Section 2: Agents\n",
        "\n",
        "**Goal:** Create a simple agent that reasons step-by-step, using the RAG tool to gather context before analyzing.\n",
        "\n",
        "**Why?** Agents add autonomy—e.g., decide if/when to retrieve rules based on code complexity.\n",
        "\n",
        "**Builds on RAG:** Wraps `retrieve_relevant_rules` as a tool.\n",
        "\n",
        "**Hands-on:** Run, then try `SAMPLES[\"leaky_repository\"]` and observe agent's verbose thinking."
      ],
      "metadata": {
        "id": "-aoTg5hEra3S"
      }
    },
    {
      "cell_type": "code",
      "source": [
        "# Define agent tools (RAG as the key tool)\n",
        "tools = [\n",
        "    Tool(\n",
        "        name=\"RetrieveArchitectureRules\",\n",
        "        func=retrieve_relevant_rules,\n",
        "        description=\"Retrieve Clean Architecture rules and anti-patterns for a given Java code snippet.\"\n",
        "    )\n",
        "]"
      ],
      "metadata": {
        "id": "Z8YANfl3rKGq"
      },
      "execution_count": null,
      "outputs": []
    },
    {
      "cell_type": "code",
      "source": [
        "# Initialize agent (with handle_parsing_errors=True to retry on format issues)\n",
        "llm = ChatOpenAI(model=\"gpt-4.1-nano\", api_key=OPENAI_API_KEY)\n",
        "agent = initialize_agent(\n",
        "    tools, llm, agent=AgentType.ZERO_SHOT_REACT_DESCRIPTION,\n",
        "    verbose=True,  # Shows reasoning\n",
        "    handle_parsing_errors=True  # Key fix: Retries if LLM skips format\n",
        ")"
      ],
      "metadata": {
        "id": "wn1EroUzrfaQ"
      },
      "execution_count": null,
      "outputs": []
    },
    {
      "cell_type": "code",
      "source": [
        "# Run agent on sample (tweaked prompt to encourage tool use first)\n",
        "java_code = SAMPLES[\"leaky_repository\"]  # Experiment here\n",
        "prompt = f\"First, use the RetrieveArchitectureRules tool to get relevant rules for this Java code. Then, analyze it step-by-step for misplaced business logic violations: {java_code}\"\n",
        "result = agent.run(prompt)\n",
        "print(\"\\nAgent's Final Analysis:\\n\", result)"
      ],
      "metadata": {
        "id": "z9PvDu_8rgCP"
      },
      "execution_count": null,
      "outputs": []
    },
    {
      "cell_type": "markdown",
      "source": [
        "**Exercise:** Add a second tool (e.g., a mock \"suggest_fix\" function) and see how the agent adapts. Does it always call the tool?"
      ],
      "metadata": {
        "id": "6uISz35uribO"
      }
    },
    {
      "cell_type": "markdown",
      "source": [
        "---\n",
        "\n",
        "# Section 3: Workflows\n",
        "\n",
        "**Goal:** Orchestrate a fixed sequence (workflow) of steps: Retrieve → Analyze → Output.\n",
        "\n",
        "**Why?** Workflows ensure reliable pipelines for production-like automation (e.g., CI/CD code checks).\n",
        "\n",
        "**Builds on prior:** Chains RAG + LLM analysis using `SequentialChain`.\n",
        "\n",
        "**Hands-on:** Run, then input custom code and trace the verbose flow."
      ],
      "metadata": {
        "id": "W17dbpqbrkdt"
      }
    },
    {
      "cell_type": "code",
      "source": [
        "# LLM setup\n",
        "llm = ChatOpenAI(model=\"gpt-4.1-nano\", api_key=OPENAI_API_KEY)"
      ],
      "metadata": {
        "id": "KXt0w0RbrhYJ"
      },
      "execution_count": null,
      "outputs": []
    },
    {
      "cell_type": "code",
      "source": [
        "# Chain 1: Retrieval (wrapped as TransformChain)\n",
        "def transform_retrieval(inputs):\n",
        "    return {\"rules\": retrieve_relevant_rules(inputs[\"code\"])}\n",
        "\n",
        "retrieval_chain = TransformChain(\n",
        "    input_variables=[\"code\"],\n",
        "    output_variables=[\"rules\"],\n",
        "    transform=transform_retrieval\n",
        ")"
      ],
      "metadata": {
        "id": "KunGyHtKroSZ"
      },
      "execution_count": null,
      "outputs": []
    },
    {
      "cell_type": "code",
      "source": [
        "# Chain 2: Analysis\n",
        "analysis_prompt = PromptTemplate.from_template(\n",
        "    \"Code: {code}\\nRules: {rules}\\n\\nExplain violations: locations, citations, and why it matters for maintainability.\"\n",
        ")\n",
        "analysis_chain = LLMChain(llm=llm, prompt=analysis_prompt, output_key=\"analysis\")"
      ],
      "metadata": {
        "id": "HhOutpw1rpsj"
      },
      "execution_count": null,
      "outputs": []
    },
    {
      "cell_type": "code",
      "source": [
        "# Full workflow: Sequential chain\n",
        "workflow = SequentialChain(\n",
        "    chains=[retrieval_chain, analysis_chain],\n",
        "    input_variables=[\"code\"],\n",
        "    output_variables=[\"analysis\"],\n",
        "    verbose=True  # Logs each step\n",
        ")"
      ],
      "metadata": {
        "id": "P5Ss1SUvrq0I"
      },
      "execution_count": null,
      "outputs": []
    },
    {
      "cell_type": "code",
      "source": [
        "# Run on sample\n",
        "java_code = SAMPLES[\"clean\"]  # Or your own leaky example\n",
        "result = workflow({\"code\": java_code})\n",
        "print(\"\\nWorkflow Output:\\n\", result[\"analysis\"])"
      ],
      "metadata": {
        "id": "vn3VjydMrsN1"
      },
      "execution_count": null,
      "outputs": []
    },
    {
      "cell_type": "markdown",
      "source": [
        "**Exercise:** Extend the chain (e.g., add a summarization step). Input a \"god class\" snippet—what violations emerge?"
      ],
      "metadata": {
        "id": "4X5wTRG5rtOp"
      }
    },
    {
      "cell_type": "markdown",
      "source": [
        "---\n",
        "\n",
        "# Wrap-Up: Next Steps for Your Team\n",
        "\n",
        "- **Integrate into CI/CD:** Hook this to GitHub Actions for commit scans.\n",
        "- **Scale:** Use larger embeddings (e.g., for full repos) or fine-tune on your codebase.\n",
        "- **Q&A:** Discuss pain points—how does this address leaky logic in your projects?\n",
        "\n",
        "Thanks for participating—feedback welcome!"
      ],
      "metadata": {
        "id": "5BiTIiaFruT6"
      }
    }
  ]
}